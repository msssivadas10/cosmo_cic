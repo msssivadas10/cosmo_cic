{
 "cells": [
  {
   "cell_type": "code",
   "execution_count": 13,
   "metadata": {},
   "outputs": [],
   "source": [
    "import sympy as sp"
   ]
  },
  {
   "cell_type": "code",
   "execution_count": 2,
   "metadata": {},
   "outputs": [],
   "source": [
    "x, y = sp.symbols('x y')"
   ]
  },
  {
   "cell_type": "code",
   "execution_count": 42,
   "metadata": {},
   "outputs": [
    {
     "data": {
      "text/latex": [
       "$\\displaystyle e^{- \\frac{x^{2}}{2}}$"
      ],
      "text/plain": [
       "exp(-x**2/2)"
      ]
     },
     "execution_count": 42,
     "metadata": {},
     "output_type": "execute_result"
    }
   ],
   "source": [
    "# y = 3*(sp.sin(x) - x*sp.cos(x))/x**3\n",
    "y = sp.exp(-x**2 / 2)\n",
    "y"
   ]
  },
  {
   "cell_type": "code",
   "execution_count": 31,
   "metadata": {},
   "outputs": [
    {
     "name": "stdout",
     "output_type": "stream",
     "text": [
      "1.000000009556724\n",
      "0.0\n",
      "0.0\n",
      "9.999999950000001e-09\n",
      "1.0000000000000002e-12\n"
     ]
    }
   ],
   "source": [
    "def f():\n",
    "    from numpy import sin, cos, exp\n",
    "    x = 1e-04\n",
    "    y = 3*(sin(x) - x*cos(x))/x**3\n",
    "    print(y)\n",
    "    y = 3*(x**2*sin(x) + 3*x*cos(x) - 3*sin(x))/x**4\n",
    "    print(y)\n",
    "    y = 3*(x**2*(x*cos(x) - 5*sin(x)) - 12*x*cos(x) + 12*sin(x))/x**5\n",
    "    print(y)\n",
    "    y = exp(-0.5*x**2) * x**2\n",
    "    print(y)\n",
    "    y = x**3\n",
    "    print(y)\n",
    "    return\n",
    "\n",
    "f()"
   ]
  },
  {
   "cell_type": "code",
   "execution_count": 43,
   "metadata": {},
   "outputs": [
    {
     "name": "stdout",
     "output_type": "stream",
     "text": [
      "-x*exp(-x**2/2)\n"
     ]
    }
   ],
   "source": [
    "print( sp.diff(y, x).simplify().factor() )"
   ]
  },
  {
   "cell_type": "code",
   "execution_count": 46,
   "metadata": {},
   "outputs": [
    {
     "name": "stdout",
     "output_type": "stream",
     "text": [
      "(x**2 - 1)*exp(-x**2/2)\n"
     ]
    }
   ],
   "source": [
    "# print( sp.diff(y, x, x).simplify().factor() )\n",
    "print( sp.diff(y, x, x).simplify() )"
   ]
  },
  {
   "cell_type": "code",
   "execution_count": 32,
   "metadata": {},
   "outputs": [
    {
     "data": {
      "text/plain": [
       "-0.5440211108893698"
      ]
     },
     "execution_count": 32,
     "metadata": {},
     "output_type": "execute_result"
    }
   ],
   "source": [
    "import numpy as np \n",
    "np.sin(10.0)"
   ]
  }
 ],
 "metadata": {
  "kernelspec": {
   "display_name": "Python 3",
   "language": "python",
   "name": "python3"
  },
  "language_info": {
   "codemirror_mode": {
    "name": "ipython",
    "version": 3
   },
   "file_extension": ".py",
   "mimetype": "text/x-python",
   "name": "python",
   "nbconvert_exporter": "python",
   "pygments_lexer": "ipython3",
   "version": "3.10.12"
  },
  "orig_nbformat": 4
 },
 "nbformat": 4,
 "nbformat_minor": 2
}
